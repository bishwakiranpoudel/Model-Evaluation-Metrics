{
 "cells": [
  {
   "cell_type": "markdown",
   "id": "ff9ec847",
   "metadata": {},
   "source": [
    "# Introduction to Regression Metrics\n",
    "Regression Metrics are used to evaluate the performance of regression models, which predict a continous outcome variable.\n",
    "\n",
    "In this notebook I will be demonstrating the use of said metrices.\n"
   ]
  },
  {
   "cell_type": "code",
   "execution_count": 6,
   "id": "3d63e1bd",
   "metadata": {},
   "outputs": [],
   "source": [
    "import numpy as np\n",
    "import pandas as pd\n",
    "import matplotlib.pyplot as plt\n",
    "\n",
    "from sklearn.metrics import mean_absolute_error, mean_squared_error, r2_score\n",
    "\n",
    "from sklearn.model_selection import train_test_split\n",
    "from sklearn.linear_model import LinearRegression\n",
    "\n",
    "from sklearn.datasets import fetch_california_housing"
   ]
  },
  {
   "cell_type": "code",
   "execution_count": 25,
   "id": "bb349a52",
   "metadata": {},
   "outputs": [],
   "source": [
    "data = fetch_california_housing()\n",
    "X, y = data.data, data.target"
   ]
  },
  {
   "cell_type": "code",
   "execution_count": 27,
   "id": "9c75db4e",
   "metadata": {},
   "outputs": [],
   "source": [
    "#Splitting data into train and test\n",
    "X_train, X_test, y_train, y_test = train_test_split(X, y, test_size = 0.2, random_state= 10)\n",
    "\n",
    "# Train the model\n",
    "model = LinearRegression()\n",
    "model.fit(X_train, y_train)\n",
    "y_pred = model.predict(X_test)\n"
   ]
  },
  {
   "attachments": {
    "image.png": {
     "image/png": "[encoded data removed]"
    }
   },
   "cell_type": "markdown",
   "id": "46e075f3",
   "metadata": {},
   "source": [
    "### R-squared (R²):\n",
    "R² represents the proportion of the varience for a dependent variable that is explained by the independent variable(s) in the model\n",
    "\n",
    "![image.png](attachment:image.png)\n",
    "where SSres is the sum of squares of residuals and SStot is the total sum of squares\n",
    "\n",
    "#### Interpretation: \n",
    "An R² value of 1 indicates that the model perfectly explains the variance in the target variable. An R² value of 0 indicates that the model does not explain any of the variance."
   ]
  },
  {
   "cell_type": "code",
   "execution_count": 30,
   "id": "d9289ecd",
   "metadata": {},
   "outputs": [
    {
     "name": "stdout",
     "output_type": "stream",
     "text": [
      "0.6009790143129117\n",
      "0.6009790143129117\n"
     ]
    }
   ],
   "source": [
    "print(model.score(X_test, y_test)) # score method in regression gives r2 score\n",
    "print(r2_score(y_test, y_pred)) # alternative"
   ]
  },
  {
   "attachments": {
    "image.png": {
     "image/png": "[encoded data removed]"
    }
   },
   "cell_type": "markdown",
   "id": "1c7494fc",
   "metadata": {},
   "source": [
    "### Mean Absolute Error (MAE)\n",
    "MAE measures the average magnitude of the errors in a set of predictions, without considering their direction. It's a linear score, meaning all individual differences are weighted equally.\n",
    "\n",
    "![image.png](attachment:image.png)\n",
    "\n",
    "#### Use Case\n",
    "Useful when you want to interpret the average error in the same unit as the output variable."
   ]
  },
  {
   "cell_type": "code",
   "execution_count": 31,
   "id": "f5c8ba19",
   "metadata": {},
   "outputs": [
    {
     "name": "stdout",
     "output_type": "stream",
     "text": [
      "0.5366527228153658\n"
     ]
    }
   ],
   "source": [
    "print(mean_absolute_error(y_test, y_pred))"
   ]
  },
  {
   "attachments": {
    "image.png": {
     "image/png": "[encoded data removed]"
    }
   },
   "cell_type": "markdown",
   "id": "360613d6",
   "metadata": {},
   "source": [
    "### Mean Squared Error (MSE)\n",
    "MSE measeures the average of the square of errors. It's more sensitive to outliers than MAE because the errors are squared, giving higher weight to larger errors.\n",
    "\n",
    "![image.png](attachment:image.png)\n",
    "\n",
    "#### Use Case\n",
    "Commonly used in optimization algorithms because it is differentiable, making it easy to compute gradients."
   ]
  },
  {
   "cell_type": "code",
   "execution_count": 32,
   "id": "fb985d08",
   "metadata": {},
   "outputs": [
    {
     "name": "stdout",
     "output_type": "stream",
     "text": [
      "0.5444842122132858\n"
     ]
    }
   ],
   "source": [
    "print(mean_squared_error(y_test, y_pred))"
   ]
  },
  {
   "attachments": {
    "image.png": {
     "image/png": "[encoded data removed]"
    }
   },
   "cell_type": "markdown",
   "id": "a3d2b15a",
   "metadata": {},
   "source": [
    "### Root Mean Squared Error (RMSE)\n",
    "RMSE is the square root of MSE, providing the error in the same unit as the original data. It represent the standard deviation of the residuals.\n",
    "\n",
    "![image.png](attachment:image.png)\n",
    "\n",
    "#### Use Case\n",
    "Preferred when you want to give higher penalties to larger errors."
   ]
  },
  {
   "cell_type": "code",
   "execution_count": 37,
   "id": "5dc0110e",
   "metadata": {},
   "outputs": [
    {
     "name": "stdout",
     "output_type": "stream",
     "text": [
      "0.7378917347506244\n",
      "0.7378917347506244\n"
     ]
    }
   ],
   "source": [
    "print(mean_squared_error(y_test, y_pred, squared=False))\n",
    "print(np.sqrt(mean_squared_error(y_test, y_pred)))"
   ]
  }
 ],
 "metadata": {
  "kernelspec": {
   "display_name": "Python 3 (ipykernel)",
   "language": "python",
   "name": "python3"
  },
  "language_info": {
   "codemirror_mode": {
    "name": "ipython",
    "version": 3
   },
   "file_extension": ".py",
   "mimetype": "text/x-python",
   "name": "python",
   "nbconvert_exporter": "python",
   "pygments_lexer": "ipython3",
   "version": "3.11.4"
  }
 },
 "nbformat": 4,
 "nbformat_minor": 5
}
